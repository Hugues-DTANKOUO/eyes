{
 "cells": [
  {
   "cell_type": "code",
   "execution_count": 1,
   "metadata": {},
   "outputs": [],
   "source": [
    "from pathlib import Path\n",
    "\n",
    "from models.relational.db_schema import SQLite, Table\n",
    "from models.relational.orm.sqlalchemy import SQLAlchemy\n",
    "from models.relational.metadata import ColumnMeta, ColumnType"
   ]
  },
  {
   "cell_type": "code",
   "execution_count": 2,
   "metadata": {},
   "outputs": [],
   "source": [
    "def get_sqlite_table(\n",
    "        database_path: Path,\n",
    "        table_name: str,\n",
    "        ensure_exist: bool = False,\n",
    "        columns: list[ColumnMeta] | None = None\n",
    "    ) -> Table[SQLAlchemy, SQLAlchemy.Table]:\n",
    "    \"\"\"\n",
    "    Récupérer une table de la base de données SQLite\n",
    "    :param database_path: Chemin du fichier de la base de données\n",
    "    :param table_name: Nom de la table\n",
    "    :param ensure_exist: Créer la table si elle n'existe pas\n",
    "    :param columns: Liste des colonnes de la table\n",
    "    \"\"\"\n",
    "    db = SQLite[SQLAlchemy, SQLAlchemy.Table](database_path, SQLAlchemy)\n",
    "\n",
    "    return Table[SQLAlchemy, SQLAlchemy.Table](table_name, db, columns, ensure_exist, SQLAlchemy)"
   ]
  },
  {
   "cell_type": "code",
   "execution_count": 3,
   "metadata": {},
   "outputs": [],
   "source": [
    "test_path = Path.cwd() / \"data\" / \"test.db\""
   ]
  },
  {
   "cell_type": "code",
   "execution_count": 4,
   "metadata": {},
   "outputs": [],
   "source": [
    "schools_columns: list[ColumnMeta] = [\n",
    "    {\n",
    "        \"name\": \"Id\",\n",
    "        \"type\": ColumnType.INT,\n",
    "        \"length\": None, \n",
    "        \"nullable\": False,\n",
    "        \"primary_key\": True,\n",
    "        \"unique\": True\n",
    "    },\n",
    "    {\n",
    "        \"name\": \"Name\",\n",
    "        \"type\": ColumnType.TEXT,\n",
    "        \"length\": 100,\n",
    "        \"nullable\": False,\n",
    "        \"primary_key\": False,\n",
    "        \"unique\": True\n",
    "    },\n",
    "    {\n",
    "        \"name\": \"Location\",\n",
    "        \"type\": ColumnType.TEXT,\n",
    "        \"length\": 100,\n",
    "        \"nullable\": False,\n",
    "        \"primary_key\": False,\n",
    "        \"unique\": False\n",
    "    }\n",
    "]"
   ]
  },
  {
   "cell_type": "code",
   "execution_count": 5,
   "metadata": {},
   "outputs": [],
   "source": [
    "schools = get_sqlite_table(test_path, \"Schools\", True, schools_columns)"
   ]
  },
  {
   "cell_type": "code",
   "execution_count": 6,
   "metadata": {},
   "outputs": [
    {
     "name": "stdout",
     "output_type": "stream",
     "text": [
      "Colonne Id de type INT de la table Schools\n",
      "Colonne Name de type TEXT de la table Schools\n",
      "Colonne Location de type TEXT de la table Schools\n"
     ]
    }
   ],
   "source": [
    "for column in schools.columns:\n",
    "    print(column)"
   ]
  },
  {
   "cell_type": "code",
   "execution_count": 7,
   "metadata": {},
   "outputs": [
    {
     "name": "stdout",
     "output_type": "stream",
     "text": [
      "Schools.Id\n",
      "Schools.Name\n",
      "Schools.Location\n"
     ]
    }
   ],
   "source": [
    "for column in schools.link_table.columns:\n",
    "    print(column)"
   ]
  },
  {
   "cell_type": "code",
   "execution_count": null,
   "metadata": {},
   "outputs": [],
   "source": []
  }
 ],
 "metadata": {
  "kernelspec": {
   "display_name": ".venv",
   "language": "python",
   "name": "python3"
  },
  "language_info": {
   "codemirror_mode": {
    "name": "ipython",
    "version": 3
   },
   "file_extension": ".py",
   "mimetype": "text/x-python",
   "name": "python",
   "nbconvert_exporter": "python",
   "pygments_lexer": "ipython3",
   "version": "3.11.8"
  }
 },
 "nbformat": 4,
 "nbformat_minor": 2
}
