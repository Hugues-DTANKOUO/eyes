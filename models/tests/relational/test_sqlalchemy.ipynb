{
 "cells": [
  {
   "cell_type": "code",
   "execution_count": 6,
   "metadata": {},
   "outputs": [],
   "source": [
    "from pathlib import Path\n",
    "\n",
    "from models.relational.db_schema import SQLite, Table\n",
    "from models.relational.orm.sqlalchemy import SQLAlchemy\n",
    "from models.relational.metadata import (\n",
    "    ColumnMeta,\n",
    "    ColumnType,\n",
    "    ForeignKeyAction,\n",
    "    ForeignKeyColumnMeta,\n",
    ")"
   ]
  },
  {
   "cell_type": "code",
   "execution_count": 7,
   "metadata": {},
   "outputs": [],
   "source": [
    "def get_sqlite_table(\n",
    "    database_path: Path,\n",
    "    table_name: str,\n",
    "    ensure_exist: bool = False,\n",
    "    columns: list[ColumnMeta] | None = None,\n",
    ") -> Table[SQLAlchemy, SQLAlchemy.Table]:\n",
    "    \"\"\"\n",
    "    Récupérer une table de la base de données SQLite\n",
    "    :param database_path: Chemin du fichier de la base de données\n",
    "    :param table_name: Nom de la table\n",
    "    :param ensure_exist: Créer la table si elle n'existe pas\n",
    "    :param columns: Liste des colonnes de la table\n",
    "    \"\"\"\n",
    "    db = SQLite[SQLAlchemy, SQLAlchemy.Table](database_path, SQLAlchemy)\n",
    "\n",
    "    return Table[SQLAlchemy, SQLAlchemy.Table](table_name, db, columns, ensure_exist)"
   ]
  },
  {
   "cell_type": "code",
   "execution_count": 8,
   "metadata": {},
   "outputs": [],
   "source": [
    "test_path = Path.cwd() / \"data\" / \"test.db\""
   ]
  },
  {
   "cell_type": "code",
   "execution_count": 9,
   "metadata": {},
   "outputs": [],
   "source": [
    "schools_columns: list[ColumnMeta] = [\n",
    "    ColumnMeta(\n",
    "        name=\"Id\",\n",
    "        type=ColumnType.INT,\n",
    "        length=None,\n",
    "        nullable=False,\n",
    "        primary_key=True,\n",
    "        unique=True,\n",
    "    ),\n",
    "    ColumnMeta(\n",
    "        name=\"Name\",\n",
    "        type=ColumnType.TEXT,\n",
    "        length=100,\n",
    "        nullable=False,\n",
    "        primary_key=False,\n",
    "        unique=False,\n",
    "    ),\n",
    "    ColumnMeta(\n",
    "        name=\"Location\",\n",
    "        type=ColumnType.TEXT,\n",
    "        length=100,\n",
    "        nullable=False,\n",
    "        primary_key=False,\n",
    "        unique=False,\n",
    "    ),\n",
    "]"
   ]
  },
  {
   "cell_type": "code",
   "execution_count": 10,
   "metadata": {},
   "outputs": [],
   "source": [
    "schools = get_sqlite_table(test_path, \"Schools\", True, schools_columns)"
   ]
  },
  {
   "cell_type": "code",
   "execution_count": 11,
   "metadata": {},
   "outputs": [
    {
     "name": "stdout",
     "output_type": "stream",
     "text": [
      "Colonne Id de type INT de la table Schools\n",
      "Colonne Name de type TEXT de la table Schools\n",
      "Colonne Location de type TEXT de la table Schools\n"
     ]
    }
   ],
   "source": [
    "for column in schools.columns:\n",
    "    print(column)"
   ]
  },
  {
   "cell_type": "code",
   "execution_count": 12,
   "metadata": {},
   "outputs": [
    {
     "name": "stdout",
     "output_type": "stream",
     "text": [
      "Schools.Id\n",
      "Schools.Name\n",
      "Schools.Location\n"
     ]
    }
   ],
   "source": [
    "for column in schools.link_table.columns:\n",
    "    print(column)"
   ]
  },
  {
   "cell_type": "code",
   "execution_count": 13,
   "metadata": {},
   "outputs": [],
   "source": [
    "students_columns: list[ColumnMeta] = [\n",
    "    ColumnMeta(\n",
    "        name=\"Id\",\n",
    "        type=ColumnType.INT,\n",
    "        length=None,\n",
    "        nullable=False,\n",
    "        primary_key=True,\n",
    "        unique=True,\n",
    "    ),\n",
    "    ColumnMeta(\n",
    "        name=\"Name\",\n",
    "        type=ColumnType.TEXT,\n",
    "        length=100,\n",
    "        nullable=False,\n",
    "        primary_key=False,\n",
    "        unique=False,\n",
    "    ),\n",
    "    ForeignKeyColumnMeta(\n",
    "        name=\"SchoolId\",\n",
    "        type=ColumnType.INT,\n",
    "        length=None,\n",
    "        nullable=False,\n",
    "        primary_key=False,\n",
    "        unique=False,\n",
    "        foreign_table_name=\"Schools\",\n",
    "        foreign_column_name=\"Id\",\n",
    "        on_delete=ForeignKeyAction.CASCADE,\n",
    "        on_update=ForeignKeyAction.CASCADE,\n",
    "    ),\n",
    "]"
   ]
  },
  {
   "cell_type": "code",
   "execution_count": 14,
   "metadata": {},
   "outputs": [],
   "source": [
    "students = get_sqlite_table(test_path, \"Students\", True, students_columns)"
   ]
  },
  {
   "cell_type": "code",
   "execution_count": 15,
   "metadata": {},
   "outputs": [
    {
     "name": "stdout",
     "output_type": "stream",
     "text": [
      "Colonne Id de type INT de la table Students\n",
      "Colonne Name de type TEXT de la table Students\n",
      "Colonne SchoolId de type INT de la table Students avec clé étrangère vers la table Schools\n"
     ]
    }
   ],
   "source": [
    "for column in students.columns:\n",
    "    print(column)"
   ]
  }
 ],
 "metadata": {
  "kernelspec": {
   "display_name": ".venv",
   "language": "python",
   "name": "python3"
  },
  "language_info": {
   "codemirror_mode": {
    "name": "ipython",
    "version": 3
   },
   "file_extension": ".py",
   "mimetype": "text/x-python",
   "name": "python",
   "nbconvert_exporter": "python",
   "pygments_lexer": "ipython3",
   "version": "3.11.8"
  }
 },
 "nbformat": 4,
 "nbformat_minor": 2
}
