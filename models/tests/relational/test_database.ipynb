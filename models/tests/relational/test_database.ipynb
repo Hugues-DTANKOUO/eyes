{
 "cells": [
  {
   "cell_type": "code",
   "execution_count": 1,
   "metadata": {},
   "outputs": [],
   "source": [
    "from pathlib import Path\n",
    "\n",
    "from models.relational.db_schema import SQLite, Table, PostgreSQL, Database\n",
    "from models.relational.config import DbConfig, DataBaseType\n",
    "from models.relational.orm.sqlalchemy import SQLAlchemy\n",
    "from models.relational.metadata import (\n",
    "    ColumnMeta,\n",
    "    ColumnType,\n",
    "    ForeignKeyAction,\n",
    "    ForeignKeyColumnMeta,\n",
    "    UniqueColumnsMeta,\n",
    ")"
   ]
  },
  {
   "cell_type": "code",
   "execution_count": 2,
   "metadata": {},
   "outputs": [],
   "source": [
    "def get_postgresql_db() -> (\n",
    "    PostgreSQL[\n",
    "        SQLAlchemy, SQLAlchemy.Table, SQLAlchemy.Column, SQLAlchemy.ForeignKeyColumn\n",
    "    ]\n",
    "):\n",
    "    return PostgreSQL[\n",
    "        SQLAlchemy, SQLAlchemy.Table, SQLAlchemy.Column, SQLAlchemy.ForeignKeyColumn\n",
    "    ](\n",
    "        db_config=DbConfig(\n",
    "            host=\"localhost\",\n",
    "            user=\"postgres\",\n",
    "            type=DataBaseType.POSTGRESQL,\n",
    "            password=\"hugues\",\n",
    "            database=\"test\",\n",
    "        ),\n",
    "        orm_class_=SQLAlchemy,\n",
    "    )"
   ]
  },
  {
   "cell_type": "code",
   "execution_count": 3,
   "metadata": {},
   "outputs": [],
   "source": [
    "def get_sqlite_db() -> (\n",
    "    SQLite[SQLAlchemy, SQLAlchemy.Table, SQLAlchemy.Column, SQLAlchemy.ForeignKeyColumn]\n",
    "):\n",
    "    db_path = Path.cwd() / \"data\" / \"test.db\"\n",
    "    return SQLite[\n",
    "        SQLAlchemy, SQLAlchemy.Table, SQLAlchemy.Column, SQLAlchemy.ForeignKeyColumn\n",
    "    ](db_path, SQLAlchemy)"
   ]
  },
  {
   "cell_type": "code",
   "execution_count": 4,
   "metadata": {},
   "outputs": [],
   "source": [
    "def get_table(\n",
    "    database: Database[\n",
    "        SQLAlchemy, SQLAlchemy.Table, SQLAlchemy.Column, SQLAlchemy.ForeignKeyColumn\n",
    "    ],\n",
    "    table_name: str,\n",
    "    columns: list[ColumnMeta] | None = None,\n",
    "    unique_constraints_columns: list[UniqueColumnsMeta] | None = None,\n",
    ") -> Table[\n",
    "    SQLAlchemy, SQLAlchemy.Table, SQLAlchemy.Column, SQLAlchemy.ForeignKeyColumn\n",
    "]:\n",
    "    \"\"\"\n",
    "    Récupérer une table de la base de données\n",
    "    :param database: Base de données\n",
    "    :param table_name: Nom de la table\n",
    "    :param columns: Liste des colonnes de la table\n",
    "    :param unique_constraints_columns: Liste des contraintes d'unicité\n",
    "    \"\"\"\n",
    "\n",
    "    return Table[\n",
    "        SQLAlchemy, SQLAlchemy.Table, SQLAlchemy.Column, SQLAlchemy.ForeignKeyColumn\n",
    "    ](table_name, database, columns, unique_constraints_columns)"
   ]
  },
  {
   "cell_type": "code",
   "execution_count": 5,
   "metadata": {},
   "outputs": [],
   "source": [
    "database = get_postgresql_db()\n",
    "# database = get_sqlite_db()"
   ]
  },
  {
   "cell_type": "code",
   "execution_count": 6,
   "metadata": {},
   "outputs": [],
   "source": [
    "schools_columns: list[ColumnMeta] = [\n",
    "    ColumnMeta(\n",
    "        name=\"Id\",\n",
    "        type=ColumnType.INT,\n",
    "        length=None,\n",
    "        nullable=False,\n",
    "        primary_key=True,\n",
    "        unique=True,\n",
    "    ),\n",
    "    ColumnMeta(\n",
    "        name=\"Name\",\n",
    "        type=ColumnType.TEXT,\n",
    "        length=100,\n",
    "        nullable=False,\n",
    "        primary_key=False,\n",
    "        unique=False,\n",
    "        default=\"ENSP Yaounde\",\n",
    "    ),\n",
    "    ColumnMeta(\n",
    "        name=\"Location\",\n",
    "        type=ColumnType.TEXT,\n",
    "        length=100,\n",
    "        nullable=False,\n",
    "        primary_key=False,\n",
    "        unique=False,\n",
    "    ),\n",
    "]"
   ]
  },
  {
   "cell_type": "code",
   "execution_count": 7,
   "metadata": {},
   "outputs": [],
   "source": [
    "schools = get_table(database, \"Schools\", schools_columns)"
   ]
  },
  {
   "cell_type": "code",
   "execution_count": 8,
   "metadata": {},
   "outputs": [
    {
     "name": "stdout",
     "output_type": "stream",
     "text": [
      "Colonne Id de type INT de la table Schools\n",
      "Colonne Name de type VARCHAR de la table Schools\n",
      "Colonne Location de type VARCHAR de la table Schools\n"
     ]
    }
   ],
   "source": [
    "for column in schools.columns:\n",
    "    print(column)"
   ]
  },
  {
   "cell_type": "code",
   "execution_count": 9,
   "metadata": {},
   "outputs": [
    {
     "name": "stdout",
     "output_type": "stream",
     "text": [
      "Schools.Id\n",
      "Schools.Name\n",
      "Schools.Location\n"
     ]
    }
   ],
   "source": [
    "for column in schools.link_table.link_table.columns:\n",
    "    print(column)"
   ]
  },
  {
   "cell_type": "code",
   "execution_count": 10,
   "metadata": {},
   "outputs": [],
   "source": [
    "students_columns: list[ColumnMeta] = [\n",
    "    ColumnMeta(\n",
    "        name=\"Id\",\n",
    "        type=ColumnType.INT,\n",
    "        length=None,\n",
    "        nullable=False,\n",
    "        primary_key=True,\n",
    "        unique=True,\n",
    "    ),\n",
    "    ColumnMeta(\n",
    "        name=\"Name\",\n",
    "        type=ColumnType.TEXT,\n",
    "        length=100,\n",
    "        nullable=False,\n",
    "        primary_key=False,\n",
    "        unique=False,\n",
    "    ),\n",
    "    ForeignKeyColumnMeta(\n",
    "        name=\"SchoolId\",\n",
    "        type=ColumnType.INT,\n",
    "        length=None,\n",
    "        nullable=False,\n",
    "        primary_key=False,\n",
    "        unique=False,\n",
    "        foreign_table_name=\"Schools\",\n",
    "        foreign_column_name=\"Id\",\n",
    "        on_delete=ForeignKeyAction.CASCADE,\n",
    "        on_update=ForeignKeyAction.CASCADE,\n",
    "    ),\n",
    "]"
   ]
  },
  {
   "cell_type": "code",
   "execution_count": 11,
   "metadata": {},
   "outputs": [],
   "source": [
    "students = get_table(database, \"Students\", students_columns)"
   ]
  },
  {
   "cell_type": "code",
   "execution_count": 12,
   "metadata": {},
   "outputs": [
    {
     "name": "stdout",
     "output_type": "stream",
     "text": [
      "Colonne Id de type INT de la table Students\n",
      "Colonne Name de type VARCHAR de la table Students\n",
      "Colonne SchoolId de type INT de la table Students avec clé étrangère vers la table Schools\n"
     ]
    }
   ],
   "source": [
    "for column in students.columns:\n",
    "    print(column)"
   ]
  },
  {
   "cell_type": "code",
   "execution_count": 13,
   "metadata": {},
   "outputs": [],
   "source": [
    "schema_destination_path = Path.cwd() / \"data\" / \"schema_postgresql.json\"\n",
    "# schema_destination_path = Path.cwd() / \"data\" / \"schema_sqlite.json\""
   ]
  },
  {
   "cell_type": "code",
   "execution_count": 14,
   "metadata": {},
   "outputs": [
    {
     "data": {
      "text/plain": [
       "{'name': 'test',\n",
       " 'type': 'postgresql',\n",
       " 'tables': {'Schools': {'name': 'Schools',\n",
       "   'columns': {'Id': {'name': 'Id',\n",
       "     'type': 'INT',\n",
       "     'length': None,\n",
       "     'nullable': False,\n",
       "     'primary_key': True,\n",
       "     'unique': True,\n",
       "     'default': None},\n",
       "    'Name': {'name': 'Name',\n",
       "     'type': 'VARCHAR',\n",
       "     'length': 100,\n",
       "     'nullable': False,\n",
       "     'primary_key': False,\n",
       "     'unique': False,\n",
       "     'default': 'ENSP Yaounde'},\n",
       "    'Location': {'name': 'Location',\n",
       "     'type': 'VARCHAR',\n",
       "     'length': 100,\n",
       "     'nullable': False,\n",
       "     'primary_key': False,\n",
       "     'unique': False,\n",
       "     'default': None}},\n",
       "   'unique_columns': {}},\n",
       "  'Students': {'name': 'Students',\n",
       "   'columns': {'Id': {'name': 'Id',\n",
       "     'type': 'INT',\n",
       "     'length': None,\n",
       "     'nullable': False,\n",
       "     'primary_key': True,\n",
       "     'unique': True,\n",
       "     'default': None},\n",
       "    'Name': {'name': 'Name',\n",
       "     'type': 'VARCHAR',\n",
       "     'length': 100,\n",
       "     'nullable': False,\n",
       "     'primary_key': False,\n",
       "     'unique': False,\n",
       "     'default': None},\n",
       "    'SchoolId': {'name': 'SchoolId',\n",
       "     'type': 'INT',\n",
       "     'length': None,\n",
       "     'nullable': False,\n",
       "     'primary_key': False,\n",
       "     'unique': False,\n",
       "     'default': None,\n",
       "     'foreign_table': 'Schools',\n",
       "     'foreign_column': 'Id',\n",
       "     'on_delete': 'CASCADE',\n",
       "     'on_update': 'CASCADE'}},\n",
       "   'unique_columns': {}}}}"
      ]
     },
     "execution_count": 14,
     "metadata": {},
     "output_type": "execute_result"
    }
   ],
   "source": [
    "database.get_schema()"
   ]
  },
  {
   "cell_type": "code",
   "execution_count": 15,
   "metadata": {},
   "outputs": [],
   "source": [
    "database.save_schema(schema_destination_path)"
   ]
  },
  {
   "cell_type": "code",
   "execution_count": 16,
   "metadata": {},
   "outputs": [],
   "source": [
    "new_school_column = ColumnMeta(\n",
    "    name=\"Country\",\n",
    "    type=ColumnType.TEXT,\n",
    "    length=100,\n",
    "    nullable=False,\n",
    "    primary_key=False,\n",
    "    unique=False,\n",
    ")"
   ]
  },
  {
   "cell_type": "code",
   "execution_count": 17,
   "metadata": {},
   "outputs": [],
   "source": [
    "country_column = schools.add_column(new_school_column)"
   ]
  },
  {
   "cell_type": "code",
   "execution_count": 19,
   "metadata": {},
   "outputs": [
    {
     "data": {
      "text/plain": [
       "'Colonne Country de type VARCHAR de la table Schools'"
      ]
     },
     "execution_count": 19,
     "metadata": {},
     "output_type": "execute_result"
    }
   ],
   "source": [
    "str(country_column)"
   ]
  },
  {
   "cell_type": "code",
   "execution_count": null,
   "metadata": {},
   "outputs": [],
   "source": []
  }
 ],
 "metadata": {
  "kernelspec": {
   "display_name": ".venv",
   "language": "python",
   "name": "python3"
  },
  "language_info": {
   "codemirror_mode": {
    "name": "ipython",
    "version": 3
   },
   "file_extension": ".py",
   "mimetype": "text/x-python",
   "name": "python",
   "nbconvert_exporter": "python",
   "pygments_lexer": "ipython3",
   "version": "3.11.8"
  }
 },
 "nbformat": 4,
 "nbformat_minor": 2
}
