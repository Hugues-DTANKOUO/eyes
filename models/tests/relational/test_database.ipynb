{
 "cells": [
  {
   "cell_type": "code",
   "execution_count": 1,
   "metadata": {},
   "outputs": [],
   "source": [
    "from pathlib import Path\n",
    "\n",
    "from models.relational.db_schema import SQLite, Table, PostgreSQL, Database\n",
    "from models.relational.config import DbConfig, DataBaseType\n",
    "from models.relational.orm.sqlalchemy import SQLAlchemy\n",
    "from models.relational.metadata import (\n",
    "    ColumnMeta,\n",
    "    ColumnType,\n",
    "    ForeignKeyAction,\n",
    "    ForeignKeyColumnMeta,\n",
    "    UniqueColumnsMeta,\n",
    ")"
   ]
  },
  {
   "cell_type": "code",
   "execution_count": 2,
   "metadata": {},
   "outputs": [],
   "source": [
    "def get_postgresql_db() -> PostgreSQL[SQLAlchemy, SQLAlchemy.Table]:\n",
    "    return PostgreSQL[SQLAlchemy, SQLAlchemy.Table](\n",
    "        db_config=DbConfig(\n",
    "            host=\"localhost\",\n",
    "            user=\"postgres\",\n",
    "            type=DataBaseType.POSTGRESQL,\n",
    "            password=\"hugues\",\n",
    "            database=\"test\",\n",
    "        ),\n",
    "        orm_class_=SQLAlchemy,\n",
    "    )"
   ]
  },
  {
   "cell_type": "code",
   "execution_count": 3,
   "metadata": {},
   "outputs": [],
   "source": [
    "def get_sqlite_db() -> SQLite[SQLAlchemy, SQLAlchemy.Table]:\n",
    "    db_path = Path.cwd() / \"data\" / \"test.db\"\n",
    "    return SQLite[SQLAlchemy, SQLAlchemy.Table](db_path, SQLAlchemy)"
   ]
  },
  {
   "cell_type": "code",
   "execution_count": 4,
   "metadata": {},
   "outputs": [],
   "source": [
    "def get_table(\n",
    "    database: Database[SQLAlchemy, SQLAlchemy.Table],\n",
    "    table_name: str,\n",
    "    columns: list[ColumnMeta] | None = None,\n",
    "    unique_constraints_columns: list[UniqueColumnsMeta] | None = None,\n",
    ") -> Table[\n",
    "    SQLAlchemy, SQLAlchemy.Table, SQLAlchemy.Column, SQLAlchemy.ForeignKeyColumn\n",
    "]:\n",
    "    \"\"\"\n",
    "    Récupérer une table de la base de données\n",
    "    :param database: Base de données\n",
    "    :param table_name: Nom de la table\n",
    "    :param columns: Liste des colonnes de la table\n",
    "    :param unique_constraints_columns: Liste des contraintes d'unicité\n",
    "    \"\"\"\n",
    "\n",
    "    return Table[\n",
    "        SQLAlchemy, SQLAlchemy.Table, SQLAlchemy.Column, SQLAlchemy.ForeignKeyColumn\n",
    "    ](table_name, database, columns, unique_constraints_columns)"
   ]
  },
  {
   "cell_type": "code",
   "execution_count": 5,
   "metadata": {},
   "outputs": [],
   "source": [
    "database = get_postgresql_db()\n",
    "# database = get_sqlite_db()"
   ]
  },
  {
   "cell_type": "code",
   "execution_count": 6,
   "metadata": {},
   "outputs": [],
   "source": [
    "schools_columns: list[ColumnMeta] = [\n",
    "    ColumnMeta(\n",
    "        name=\"Id\",\n",
    "        type=ColumnType.INT,\n",
    "        length=None,\n",
    "        nullable=False,\n",
    "        primary_key=True,\n",
    "        unique=True,\n",
    "    ),\n",
    "    ColumnMeta(\n",
    "        name=\"Name\",\n",
    "        type=ColumnType.TEXT,\n",
    "        length=100,\n",
    "        nullable=False,\n",
    "        primary_key=False,\n",
    "        unique=False,\n",
    "        default=\"ENSP Yaounde\",\n",
    "    ),\n",
    "    ColumnMeta(\n",
    "        name=\"Location\",\n",
    "        type=ColumnType.TEXT,\n",
    "        length=100,\n",
    "        nullable=False,\n",
    "        primary_key=False,\n",
    "        unique=False,\n",
    "    ),\n",
    "]"
   ]
  },
  {
   "cell_type": "code",
   "execution_count": 7,
   "metadata": {},
   "outputs": [],
   "source": [
    "schools = get_table(database, \"Schools\", schools_columns)"
   ]
  },
  {
   "cell_type": "code",
   "execution_count": 8,
   "metadata": {},
   "outputs": [
    {
     "name": "stdout",
     "output_type": "stream",
     "text": [
      "Colonne Id de type INT de la table Schools\n",
      "Colonne Name de type VARCHAR de la table Schools\n",
      "Colonne Location de type VARCHAR de la table Schools\n"
     ]
    }
   ],
   "source": [
    "for column in schools.columns:\n",
    "    print(column)"
   ]
  },
  {
   "cell_type": "code",
   "execution_count": 9,
   "metadata": {},
   "outputs": [
    {
     "name": "stdout",
     "output_type": "stream",
     "text": [
      "Schools.Id\n",
      "Schools.Name\n",
      "Schools.Location\n"
     ]
    }
   ],
   "source": [
    "for column in schools._link_table._link_table.columns:\n",
    "    print(column)"
   ]
  },
  {
   "cell_type": "code",
   "execution_count": 10,
   "metadata": {},
   "outputs": [],
   "source": [
    "students_columns: list[ColumnMeta] = [\n",
    "    ColumnMeta(\n",
    "        name=\"Id\",\n",
    "        type=ColumnType.INT,\n",
    "        length=None,\n",
    "        nullable=False,\n",
    "        primary_key=True,\n",
    "        unique=True,\n",
    "    ),\n",
    "    ColumnMeta(\n",
    "        name=\"Name\",\n",
    "        type=ColumnType.TEXT,\n",
    "        length=100,\n",
    "        nullable=False,\n",
    "        primary_key=False,\n",
    "        unique=False,\n",
    "    ),\n",
    "    ForeignKeyColumnMeta(\n",
    "        name=\"SchoolId\",\n",
    "        type=ColumnType.INT,\n",
    "        length=None,\n",
    "        nullable=False,\n",
    "        primary_key=False,\n",
    "        unique=False,\n",
    "        foreign_table_name=\"Schools\",\n",
    "        foreign_column_name=\"Id\",\n",
    "        on_delete=ForeignKeyAction.CASCADE,\n",
    "        on_update=ForeignKeyAction.CASCADE,\n",
    "    ),\n",
    "]"
   ]
  },
  {
   "cell_type": "code",
   "execution_count": 11,
   "metadata": {},
   "outputs": [],
   "source": [
    "students = get_table(database, \"Students\", students_columns)"
   ]
  },
  {
   "cell_type": "code",
   "execution_count": 12,
   "metadata": {},
   "outputs": [],
   "source": [
    "students_name = students.get_column(\"Name\")"
   ]
  },
  {
   "cell_type": "code",
   "execution_count": 13,
   "metadata": {},
   "outputs": [],
   "source": [
    "students_name.name = \"Fullname\""
   ]
  },
  {
   "cell_type": "code",
   "execution_count": 14,
   "metadata": {},
   "outputs": [
    {
     "data": {
      "text/plain": [
       "'Fullname'"
      ]
     },
     "execution_count": 14,
     "metadata": {},
     "output_type": "execute_result"
    }
   ],
   "source": [
    "students._link_table._link_table.columns[1].name"
   ]
  },
  {
   "cell_type": "code",
   "execution_count": 15,
   "metadata": {},
   "outputs": [
    {
     "data": {
      "text/plain": [
       "'Fullname'"
      ]
     },
     "execution_count": 15,
     "metadata": {},
     "output_type": "execute_result"
    }
   ],
   "source": [
    "students_name.name"
   ]
  },
  {
   "cell_type": "code",
   "execution_count": 16,
   "metadata": {},
   "outputs": [
    {
     "data": {
      "text/plain": [
       "'Fullname'"
      ]
     },
     "execution_count": 16,
     "metadata": {},
     "output_type": "execute_result"
    }
   ],
   "source": [
    "students_name._link_column.meta.name"
   ]
  },
  {
   "cell_type": "code",
   "execution_count": 17,
   "metadata": {},
   "outputs": [
    {
     "data": {
      "text/plain": [
       "Column('Fullname', VARCHAR(length=100), table=<Students>, nullable=False)"
      ]
     },
     "execution_count": 17,
     "metadata": {},
     "output_type": "execute_result"
    }
   ],
   "source": [
    "students_name._link_column._link_column"
   ]
  },
  {
   "cell_type": "code",
   "execution_count": 18,
   "metadata": {},
   "outputs": [],
   "source": [
    "schools_id = students.get_column(\"SchoolId\")"
   ]
  },
  {
   "cell_type": "code",
   "execution_count": 19,
   "metadata": {},
   "outputs": [
    {
     "data": {
      "text/plain": [
       "'SchoolId'"
      ]
     },
     "execution_count": 19,
     "metadata": {},
     "output_type": "execute_result"
    }
   ],
   "source": [
    "schools_id.name"
   ]
  },
  {
   "cell_type": "code",
   "execution_count": 20,
   "metadata": {},
   "outputs": [
    {
     "name": "stdout",
     "output_type": "stream",
     "text": [
      "Colonne Id de type INT de la table Students\n",
      "Colonne Fullname de type VARCHAR de la table Students\n",
      "Colonne SchoolId de type INT de la table Students avec clé étrangère vers la table Schools\n"
     ]
    }
   ],
   "source": [
    "for column in students.columns:\n",
    "    print(column)"
   ]
  },
  {
   "cell_type": "code",
   "execution_count": 21,
   "metadata": {},
   "outputs": [],
   "source": [
    "schema_destination_path = Path.cwd() / \"data\" / \"schema_postgresql.json\"\n",
    "# schema_destination_path = Path.cwd() / \"data\" / \"schema_sqlite.json\""
   ]
  },
  {
   "cell_type": "code",
   "execution_count": 22,
   "metadata": {},
   "outputs": [
    {
     "data": {
      "text/plain": [
       "{'name': 'test',\n",
       " 'type': 'postgresql',\n",
       " 'tables': {'public.Schools': {'name': 'public.Schools',\n",
       "   'columns': {'Id': {'name': 'Id',\n",
       "     'type': 'INT',\n",
       "     'length': None,\n",
       "     'nullable': False,\n",
       "     'primary_key': True,\n",
       "     'unique': False,\n",
       "     'default': None},\n",
       "    'Name': {'name': 'Name',\n",
       "     'type': 'VARCHAR',\n",
       "     'length': 100,\n",
       "     'nullable': False,\n",
       "     'primary_key': False,\n",
       "     'unique': False,\n",
       "     'default': \"'ENSP Yaounde'::character varying\"},\n",
       "    'Location': {'name': 'Location',\n",
       "     'type': 'VARCHAR',\n",
       "     'length': 100,\n",
       "     'nullable': False,\n",
       "     'primary_key': False,\n",
       "     'unique': False,\n",
       "     'default': None}},\n",
       "   'unique_columns': {}},\n",
       "  'public.Students': {'name': 'public.Students',\n",
       "   'columns': {'Id': {'name': 'Id',\n",
       "     'type': 'INT',\n",
       "     'length': None,\n",
       "     'nullable': False,\n",
       "     'primary_key': True,\n",
       "     'unique': False,\n",
       "     'default': None},\n",
       "    'Fullname': {'name': 'Fullname',\n",
       "     'type': 'VARCHAR',\n",
       "     'length': 100,\n",
       "     'nullable': False,\n",
       "     'primary_key': False,\n",
       "     'unique': False,\n",
       "     'default': None},\n",
       "    'SchoolId': {'name': 'SchoolId',\n",
       "     'type': 'INT',\n",
       "     'length': None,\n",
       "     'nullable': False,\n",
       "     'primary_key': False,\n",
       "     'unique': False,\n",
       "     'default': None,\n",
       "     'foreign_table': 'Schools',\n",
       "     'foreign_column': 'Id',\n",
       "     'on_delete': 'CASCADE',\n",
       "     'on_update': 'CASCADE'}},\n",
       "   'unique_columns': {}}}}"
      ]
     },
     "execution_count": 22,
     "metadata": {},
     "output_type": "execute_result"
    }
   ],
   "source": [
    "database.get_schema()"
   ]
  },
  {
   "cell_type": "code",
   "execution_count": 23,
   "metadata": {},
   "outputs": [],
   "source": [
    "database.save_schema(schema_destination_path)"
   ]
  },
  {
   "cell_type": "code",
   "execution_count": 24,
   "metadata": {},
   "outputs": [],
   "source": [
    "new_school_column = ColumnMeta(\n",
    "    name=\"Country\",\n",
    "    type=ColumnType.TEXT,\n",
    "    length=100,\n",
    "    nullable=False,\n",
    "    primary_key=False,\n",
    "    unique=False,\n",
    "    default=\"Cameroon\",\n",
    ")"
   ]
  },
  {
   "cell_type": "code",
   "execution_count": 25,
   "metadata": {},
   "outputs": [],
   "source": [
    "country_column = schools.add_column(new_school_column)"
   ]
  },
  {
   "cell_type": "code",
   "execution_count": 26,
   "metadata": {},
   "outputs": [],
   "source": [
    "database.save_schema(schema_destination_path)"
   ]
  },
  {
   "cell_type": "code",
   "execution_count": 27,
   "metadata": {},
   "outputs": [],
   "source": [
    "schools.db_name = \"Schools2\""
   ]
  },
  {
   "cell_type": "code",
   "execution_count": 28,
   "metadata": {},
   "outputs": [
    {
     "data": {
      "text/plain": [
       "'Schools2'"
      ]
     },
     "execution_count": 28,
     "metadata": {},
     "output_type": "execute_result"
    }
   ],
   "source": [
    "schools.db_name"
   ]
  },
  {
   "cell_type": "code",
   "execution_count": 29,
   "metadata": {},
   "outputs": [
    {
     "data": {
      "text/plain": [
       "'Schools2'"
      ]
     },
     "execution_count": 29,
     "metadata": {},
     "output_type": "execute_result"
    }
   ],
   "source": [
    "schools._link_table.name"
   ]
  },
  {
   "cell_type": "code",
   "execution_count": 30,
   "metadata": {},
   "outputs": [],
   "source": [
    "database.save_schema(schema_destination_path)"
   ]
  },
  {
   "cell_type": "code",
   "execution_count": 31,
   "metadata": {},
   "outputs": [],
   "source": [
    "database.disconnection()"
   ]
  },
  {
   "cell_type": "code",
   "execution_count": null,
   "metadata": {},
   "outputs": [],
   "source": []
  }
 ],
 "metadata": {
  "kernelspec": {
   "display_name": ".venv",
   "language": "python",
   "name": "python3"
  },
  "language_info": {
   "codemirror_mode": {
    "name": "ipython",
    "version": 3
   },
   "file_extension": ".py",
   "mimetype": "text/x-python",
   "name": "python",
   "nbconvert_exporter": "python",
   "pygments_lexer": "ipython3",
   "version": "3.11.8"
  }
 },
 "nbformat": 4,
 "nbformat_minor": 2
}
